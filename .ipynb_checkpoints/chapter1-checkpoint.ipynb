{
 "cells": [
  {
   "cell_type": "markdown",
   "metadata": {},
   "source": [
    "# 1\n",
    "\n",
    "**Markov Chain**: A sequence of random variables $(X_0, X_1, \\ldots)$ with state space $\\Omega$ and transition matrix $P$ if for all $x, y \\in \\Omega$, all $t \\geq 1$, and all events $H_{t-1} = \\cap_{s=0}^{t-1} \\{X_s = x_s\\}$ satisfying $\\mathbf{P}(H_{t-1} \\cap \\{X_t = x\\}) > 0$, we have \n",
    "\n",
    "$$\\mathbf{P}\\{X_t = y \\;|\\; H_{t-1}\\cap \\{X_t = x\\}\\} = \\mathbf{P}\\{X_{t+1}=y \\;|\\; X_t=x\\} = P(x, y)$$\n",
    "\n",
    "\n",
    "## Example 1: Frog"
   ]
  },
  {
   "cell_type": "code",
   "execution_count": 51,
   "metadata": {},
   "outputs": [],
   "source": [
    "import numpy as np \n",
    "import matplotlib.pyplot as plt\n",
    "\n",
    "def frog(p, q, T):\n",
    "    \"\"\"\n",
    "    Plot the probabilities of being on the east or west lilipad at each time t.\n",
    "    \n",
    "    \"\"\"\n",
    "    P = np.array([[1-p, p], \n",
    "                  [q,   1-q]])\n",
    "\n",
    "    mu_0 = np.array([1, 0])\n",
    "    \n",
    "    # Plotting the probabilities of being on the East lilipad for different values of p and q\n",
    "\n",
    "    ts = range(0, T)\n",
    "    ys = []\n",
    "    for t in ts:\n",
    "        P_t = np.linalg.matrix_power(P, t)\n",
    "        y   = mu_0.dot(P_t)\n",
    "        ys.append(y)\n",
    "        \n",
    "    plt.plot(ys)\n",
    "    plt.xticks(range(0, T, T//5))\n",
    "    plt.legend([\"East lilipad probability\", \"West lilipad probability\"])\n",
    "    plt.show()\n",
    "    \n",
    "    print(\"The probability of staying on the east lilipad should converge to\", q, \"/(\", p, \"+\", q, \") = \", q / (p+q))"
   ]
  },
  {
   "cell_type": "code",
   "execution_count": 52,
   "metadata": {},
   "outputs": [
    {
     "data": {
      "text/plain": [
       "array([0.7, 0.3])"
      ]
     },
     "execution_count": 52,
     "metadata": {},
     "output_type": "execute_result"
    }
   ],
   "source": [
    "mu_1"
   ]
  },
  {
   "cell_type": "code",
   "execution_count": 54,
   "metadata": {},
   "outputs": [
    {
     "data": {
      "image/png": "[encoded data removed]",
      "text/plain": [
       "<Figure size 432x288 with 1 Axes>"
      ]
     },
     "metadata": {
      "needs_background": "light"
     },
     "output_type": "display_data"
    },
    {
     "name": "stdout",
     "output_type": "stream",
     "text": [
      "The probability of staying on the east lilipad should converge to 0.5 /( 0.7 + 0.5 ) =  0.4166666666666667\n"
     ]
    }
   ],
   "source": [
    "frog(0.7, 0.5, 10)\n"
   ]
  },
  {
   "cell_type": "code",
   "execution_count": 30,
   "metadata": {},
   "outputs": [
    {
     "data": {
      "text/plain": [
       "1.0"
      ]
     },
     "execution_count": 30,
     "metadata": {},
     "output_type": "execute_result"
    }
   ],
   "source": []
  },
  {
   "cell_type": "code",
   "execution_count": null,
   "metadata": {},
   "outputs": [],
   "source": []
  }
 ],
 "metadata": {
  "kernelspec": {
   "display_name": "Python 3",
   "language": "python",
   "name": "python3"
  },
  "language_info": {
   "codemirror_mode": {
    "name": "ipython",
    "version": 3
   },
   "file_extension": ".py",
   "mimetype": "text/x-python",
   "name": "python",
   "nbconvert_exporter": "python",
   "pygments_lexer": "ipython3",
   "version": "3.8.5"
  }
 },
 "nbformat": 4,
 "nbformat_minor": 4
}
